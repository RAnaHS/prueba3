{
 "cells": [
  {
   "cell_type": "code",
   "execution_count": 13,
   "id": "249cdfc5",
   "metadata": {
    "hideCode": true,
    "hidePrompt": false
   },
   "outputs": [],
   "source": [
    "import matplotlib.pyplot as plt\n",
    "import numpy as np\n",
    "import sympy as sp\n",
    "x = sp.Symbol('x')\n",
    "import ipywidgets as ip\n",
    "from ipywidgets import interact\n",
    "from ipywidgets import widgets"
   ]
  },
  {
   "cell_type": "markdown",
   "id": "737472d8",
   "metadata": {
    "hideCode": true,
    "hideOutput": false,
    "hidePrompt": false
   },
   "source": [
    "Proceso isotérmico a 25ºC Gas ideal perfercto"
   ]
  },
  {
   "cell_type": "code",
   "execution_count": 15,
   "id": "b8206994",
   "metadata": {
    "hideCode": true
   },
   "outputs": [
    {
     "data": {
      "application/vnd.jupyter.widget-view+json": {
       "model_id": "b48f04828a2b41c9bc8a55131e4bd600",
       "version_major": 2,
       "version_minor": 0
      },
      "text/plain": [
       "IntSlider(value=5, description=' Volmin (L) =', max=10, min=2)"
      ]
     },
     "metadata": {},
     "output_type": "display_data"
    },
    {
     "data": {
      "application/vnd.jupyter.widget-view+json": {
       "model_id": "7c8495ebae794cad801ba8c3a71d2c80",
       "version_major": 2,
       "version_minor": 0
      },
      "text/plain": [
       "IntSlider(value=3, description=' Volmax (L) =', max=20, min=2)"
      ]
     },
     "metadata": {},
     "output_type": "display_data"
    },
    {
     "data": {
      "application/vnd.jupyter.widget-view+json": {
       "model_id": "5a31596bf3034220aff78063c6d68e67",
       "version_major": 2,
       "version_minor": 0
      },
      "text/plain": [
       "Output()"
      ]
     },
     "metadata": {},
     "output_type": "display_data"
    },
    {
     "data": {
      "application/vnd.jupyter.widget-view+json": {
       "model_id": "cd50821b88544d1f802b3888b660143f",
       "version_major": 2,
       "version_minor": 0
      },
      "text/plain": [
       "Output()"
      ]
     },
     "metadata": {},
     "output_type": "display_data"
    },
    {
     "data": {
      "application/vnd.jupyter.widget-view+json": {
       "model_id": "7a5e92db4ea5470e84a55b58f61cd2b6",
       "version_major": 2,
       "version_minor": 0
      },
      "text/plain": [
       "Output()"
      ]
     },
     "metadata": {},
     "output_type": "display_data"
    },
    {
     "data": {
      "application/vnd.jupyter.widget-view+json": {
       "model_id": "94b60693154b44aa8cfb5aa96e6072c0",
       "version_major": 2,
       "version_minor": 0
      },
      "text/plain": [
       "Output()"
      ]
     },
     "metadata": {},
     "output_type": "display_data"
    }
   ],
   "source": [
    "volmin = widgets.IntSlider(description=' Volmin (L) =',value=5, min=2, max=10)\n",
    "volmax = widgets.IntSlider(description=' Volmax (L) =',value=3, min=2, max=20)\n",
    "\n",
    "def trabajo (volmin,volmax):\n",
    "    trabajoinf=2478.8191*sp.log(volmin).evalf()\n",
    "    trabajosup=2478.8191*sp.log(volmax).evalf()\n",
    "    trabajo = (trabajosup-trabajoinf).evalf()\n",
    "    calor = -trabajo\n",
    "    energia = {\"trabajo\":trabajo,\"calor\":calor}\n",
    "    magnitud = list(energia.values())\n",
    "    tipo = list(energia.keys())\n",
    "    plt.bar(tipo, magnitud, width=0.8)\n",
    "    plt.ylim(ymax=4000, ymin=-4000)\n",
    "    display(trabajosup-trabajoinf)\n",
    "\n",
    "def f2(volmin,volmax):\n",
    "    x = np.linspace(0,20,500)\n",
    "    ec=8.314*298.15/x\n",
    "    plt.plot(x,ec)\n",
    "    plt.ylim(0, 1000)\n",
    "    graf1 = plt.fill_between(x,ec, where =[(x>volmin) and (x<volmax) for x in x])\n",
    "    graf2 = plt.fill_between(x,ec, where =[(x>volmax) and (x<volmin) for x in x])\n",
    "    if volmin<volmax:\n",
    "        display(graf1)\n",
    "    else:\n",
    "        display(graf2)\n",
    "        \n",
    "def cilindro(volmin):\n",
    "    x= np.array([5,6,7,8])\n",
    "    y= np.array([volmin,volmin,volmin,volmin])\n",
    "    plt.plot(x,y,color='black')\n",
    "    plt.fill_between(x,y, alpha=0.25)\n",
    "    a= np.array([5,5,5])\n",
    "    b= np.array([0,8,13])\n",
    "    plt.plot(a, b, color='black')\n",
    "    z= np.array([8,8,8])\n",
    "    w= np.array([0,8,13])\n",
    "    plt.plot(z, w, color='black')\n",
    "    plt.xlim(xmin=0, xmax=13)\n",
    "    plt.ylim(ymin=0, ymax=20)\n",
    "    plt.ylabel(\"Volumen (L)\")\n",
    "    graf3 = plt.show()\n",
    "    display(graf3)\n",
    "    \n",
    "def cilindro2(volmax):\n",
    "    x= np.array([5,6,7,8])\n",
    "    y= np.array([volmax,volmax,volmax,volmax])\n",
    "    plt.plot(x,y,color='black')\n",
    "    plt.fill_between(x,y, alpha=0.25)\n",
    "    a= np.array([5,5,5])\n",
    "    b= np.array([0,8,13])\n",
    "    plt.plot(a, b, color='black')\n",
    "    z= np.array([8,8,8])\n",
    "    w= np.array([0,8,13])\n",
    "    plt.plot(z, w, color='black')\n",
    "    plt.xlim(xmin=0, xmax=13)\n",
    "    plt.ylim(ymin=0, ymax=20)\n",
    "    plt.ylabel(\"Volumen (L)\")\n",
    "    graf4 = plt.show()\n",
    "    display(graf4)\n",
    "    \n",
    "out1 = widgets.interactive_output(trabajo, {'volmin': volmin,'volmax': volmax})\n",
    "out2 = widgets.interactive_output(f2, {'volmin': volmin,'volmax': volmax})\n",
    "out3 = widgets.interactive_output(cilindro, {'volmin': volmin})\n",
    "out4 = widgets.interactive_output(cilindro2, {'volmax': volmax})\n",
    "\n",
    "display(volmin)\n",
    "display(volmax)\n",
    "display(out1)\n",
    "display(out2)\n",
    "display(out3)\n",
    "display(out4)"
   ]
  },
  {
   "cell_type": "markdown",
   "id": "774fc28b",
   "metadata": {},
   "source": [
    "Proceso isobárico gas ideal perferto"
   ]
  },
  {
   "cell_type": "code",
   "execution_count": 3,
   "id": "77f367cf",
   "metadata": {},
   "outputs": [
    {
     "data": {
      "application/vnd.jupyter.widget-view+json": {
       "model_id": "29e6a3a0e3864fa09b7e0cddef03e6ae",
       "version_major": 2,
       "version_minor": 0
      },
      "text/plain": [
       "IntSlider(value=5, description=' Volmin (L) =', max=10, min=2)"
      ]
     },
     "metadata": {},
     "output_type": "display_data"
    },
    {
     "data": {
      "application/vnd.jupyter.widget-view+json": {
       "model_id": "56887cd65b884b32adabc77090f3a16c",
       "version_major": 2,
       "version_minor": 0
      },
      "text/plain": [
       "IntSlider(value=3, description=' Volmax (L) =', max=20, min=2)"
      ]
     },
     "metadata": {},
     "output_type": "display_data"
    },
    {
     "data": {
      "application/vnd.jupyter.widget-view+json": {
       "model_id": "c1a35a1aa2af44f7bc248a356fa81f5b",
       "version_major": 2,
       "version_minor": 0
      },
      "text/plain": [
       "IntSlider(value=298, description=' Tmin (K) =', max=348, min=298)"
      ]
     },
     "metadata": {},
     "output_type": "display_data"
    },
    {
     "data": {
      "application/vnd.jupyter.widget-view+json": {
       "model_id": "93d2a9e93a7b437381107331527fa34f",
       "version_major": 2,
       "version_minor": 0
      },
      "text/plain": [
       "IntSlider(value=300, description=' Tmax (K) =', max=348, min=298)"
      ]
     },
     "metadata": {},
     "output_type": "display_data"
    },
    {
     "data": {
      "application/vnd.jupyter.widget-view+json": {
       "model_id": "d1c42adfdaff4346bbb0c0b72c03ff79",
       "version_major": 2,
       "version_minor": 0
      },
      "text/plain": [
       "Output()"
      ]
     },
     "metadata": {},
     "output_type": "display_data"
    }
   ],
   "source": [
    "volmin = widgets.IntSlider(description=' Volmin (L) =',value=5, min=2, max=10)\n",
    "volmax = widgets.IntSlider(description=' Volmax (L) =',value=3, min=2, max=20)\n",
    "tmin = widgets.IntSlider(description=' Tmin (K) =',value=298.15, min=298.15, max=348.15)\n",
    "tmax = widgets.IntSlider(description=' Tmax (K) =',value=300, min=298.15, max=348.15)\n",
    "\n",
    "def trabajo (volmin,volmax):\n",
    "    trabajop = 100*(volmax-volmin)\n",
    "    calor = (20.7684*(tmax-tmin))-trabajop\n",
    "    energia = {\"trabajo\":trabajop,\"calor\":calor}\n",
    "    magnitud = list(energia.values())\n",
    "    tipo = list(energia.keys())\n",
    "    plt.bar(tipo, magnitud, width=0.8)\n",
    "    plt.ylim(ymax=4000, ymin=-4000)\n",
    "    display(trabajop)\n",
    "    \n",
    "out1 = widgets.interactive_output(trabajo, {'volmin': volmin,'volmax': volmax})\n",
    "\n",
    "\n",
    "display(volmin)\n",
    "display(volmax)\n",
    "display(tmin)\n",
    "display(tmax)\n",
    "display(out1)\n"
   ]
  },
  {
   "cell_type": "code",
   "execution_count": 4,
   "id": "64608065",
   "metadata": {},
   "outputs": [
    {
     "data": {
      "application/vnd.jupyter.widget-view+json": {
       "model_id": "d30840d9c7284d3f9140ddc46fead0c7",
       "version_major": 2,
       "version_minor": 0
      },
      "text/plain": [
       "IntSlider(value=5, description=' Volmin (L) =', max=10, min=2)"
      ]
     },
     "metadata": {},
     "output_type": "display_data"
    },
    {
     "data": {
      "application/vnd.jupyter.widget-view+json": {
       "model_id": "bff414f563904fd89940ca14b95f12fa",
       "version_major": 2,
       "version_minor": 0
      },
      "text/plain": [
       "IntSlider(value=3, description=' Volmax (L) =', max=20, min=2)"
      ]
     },
     "metadata": {},
     "output_type": "display_data"
    },
    {
     "data": {
      "application/vnd.jupyter.widget-view+json": {
       "model_id": "8d4937f467ab4d5092093c7730bd254e",
       "version_major": 2,
       "version_minor": 0
      },
      "text/plain": [
       "IntSlider(value=298, description=' Tmin (K) =', max=348, min=298)"
      ]
     },
     "metadata": {},
     "output_type": "display_data"
    },
    {
     "data": {
      "application/vnd.jupyter.widget-view+json": {
       "model_id": "d556adaaa5e94f3e8e2025945d3d7857",
       "version_major": 2,
       "version_minor": 0
      },
      "text/plain": [
       "IntSlider(value=300, description=' Tmax (K) =', max=348, min=298)"
      ]
     },
     "metadata": {},
     "output_type": "display_data"
    },
    {
     "data": {
      "application/vnd.jupyter.widget-view+json": {
       "model_id": "18271752f48c45019de4523c9bc8e23e",
       "version_major": 2,
       "version_minor": 0
      },
      "text/plain": [
       "Output()"
      ]
     },
     "metadata": {},
     "output_type": "display_data"
    },
    {
     "data": {
      "application/vnd.jupyter.widget-view+json": {
       "model_id": "65278e503aab4f168466ba61fd2c63bc",
       "version_major": 2,
       "version_minor": 0
      },
      "text/plain": [
       "Output()"
      ]
     },
     "metadata": {},
     "output_type": "display_data"
    }
   ],
   "source": [
    "volmin = widgets.IntSlider(description=' Volmin (L) =',value=5, min=2, max=10)\n",
    "volmax = widgets.IntSlider(description=' Volmax (L) =',value=3, min=2, max=20)\n",
    "tmin = widgets.IntSlider(description=' Tmin (K) =',value=298.15, min=298.15, max=348.15)\n",
    "tmax = widgets.IntSlider(description=' Tmax (K) =',value=300, min=298.15, max=348.15)\n",
    "\n",
    "def trabajo (volmin,volmax):\n",
    "    trabajo = -100*(volmax-volmin)\n",
    "    display(trabajo)\n",
    "    \n",
    "def calor (tmin, tmax, volmax, volmin) :\n",
    "    calor  = 20.7684*(tmin-tmax)-(-100*(volmax-volmin))\n",
    "    display(calor)\n",
    "    \n",
    "out1 = widgets.interactive_output(trabajo, {'volmin': volmin,'volmax': volmax})\n",
    "out2 = widgets.interactive_output(calor, {'tmin': tmin,'tmax': tmax, 'volmin': volmin,'volmax': volmax})\n",
    "\n",
    "\n",
    "display(volmin)\n",
    "display(volmax)\n",
    "display(tmin)\n",
    "display(tmax)\n",
    "display(out1)\n",
    "display(out2)"
   ]
  },
  {
   "cell_type": "code",
   "execution_count": 5,
   "id": "7593b088",
   "metadata": {
    "hideCode": true
   },
   "outputs": [
    {
     "data": {
      "application/vnd.jupyter.widget-view+json": {
       "model_id": "18bc0dcff4804586a04d014051dbbe3e",
       "version_major": 2,
       "version_minor": 0
      },
      "text/plain": [
       "IntSlider(value=5, description=' Volmin (L) =', max=10, min=2)"
      ]
     },
     "metadata": {},
     "output_type": "display_data"
    },
    {
     "data": {
      "application/vnd.jupyter.widget-view+json": {
       "model_id": "6b7a28c5e758439785608fd7309e4631",
       "version_major": 2,
       "version_minor": 0
      },
      "text/plain": [
       "IntSlider(value=3, description=' Volmax (L) =', max=20, min=2)"
      ]
     },
     "metadata": {},
     "output_type": "display_data"
    },
    {
     "data": {
      "application/vnd.jupyter.widget-view+json": {
       "model_id": "fdbf9adb7adf40f5a96e7cb09eef18ed",
       "version_major": 2,
       "version_minor": 0
      },
      "text/plain": [
       "IntSlider(value=20, description=' Tmin (K) =', max=348, min=20)"
      ]
     },
     "metadata": {},
     "output_type": "display_data"
    },
    {
     "data": {
      "application/vnd.jupyter.widget-view+json": {
       "model_id": "e726d56276344f97a6b51bb1cc48e0fb",
       "version_major": 2,
       "version_minor": 0
      },
      "text/plain": [
       "IntSlider(value=30, description=' Tmax (K) =', max=348, min=20)"
      ]
     },
     "metadata": {},
     "output_type": "display_data"
    },
    {
     "data": {
      "application/vnd.jupyter.widget-view+json": {
       "model_id": "fadafb8a0279429795aff62d943cfe94",
       "version_major": 2,
       "version_minor": 0
      },
      "text/plain": [
       "Output()"
      ]
     },
     "metadata": {},
     "output_type": "display_data"
    },
    {
     "data": {
      "application/vnd.jupyter.widget-view+json": {
       "model_id": "47e63529b33a45fba83d3edfc676a04d",
       "version_major": 2,
       "version_minor": 0
      },
      "text/plain": [
       "Output()"
      ]
     },
     "metadata": {},
     "output_type": "display_data"
    }
   ],
   "source": [
    "volmin = widgets.IntSlider(description=' Volmin (L) =',value=5, min=2, max=10)\n",
    "volmax = widgets.IntSlider(description=' Volmax (L) =',value=3, min=2, max=20)\n",
    "tmin = widgets.IntSlider(description=' Tmin (K) =',value=20, min=20, max=348.15)\n",
    "tmax = widgets.IntSlider(description=' Tmax (K) =',value=30, min=20, max=348.15)\n",
    "\n",
    "def trabajo (volmin,volmax,tmin,tmax):\n",
    "    trabajo = -100*(volmax-volmin)\n",
    "    calor  = 20.7684*(tmin-tmax)-trabajo\n",
    "    energia = {\"trabajo\":trabajo,\"calor\":calor}\n",
    "    magnitud = list(energia.values())\n",
    "    tipo = list(energia.keys())\n",
    "    plt.bar(tipo, magnitud, width=0.8)\n",
    "    plt.ylim(ymax=4000, ymin=-4000)\n",
    "    display( trabajo, calor)\n",
    "    \n",
    "def f3(volmin,volmax,tmin,tmax):\n",
    "    x = np.linspace(0,20,500)\n",
    "    ec1=8.314*tmin/x\n",
    "    plt.plot(x,ec1)\n",
    "    plt.ylim(0, 200)\n",
    "    ec2=8.314*tmax/x\n",
    "    plt.plot(x,ec2)\n",
    "    plt.ylim(0, 200)\n",
    "    ec3=100+x-x\n",
    "    plt.plot(x,ec3)\n",
    "    plt.ylim(0, 200)\n",
    "    graf1 = plt.fill_between(x,ec3, where =[(x>volmin) and (x<volmax) for x in x],alpha=0.2)\n",
    "    graf2 = plt.fill_between(x,ec3, where =[(x>volmax) and (x<volmin) for x in x],alpha=0.2)\n",
    "    if volmin<volmax:\n",
    "        display(graf1)\n",
    "    else:\n",
    "        display(graf2)    \n",
    "    \n",
    "out1 = widgets.interactive_output(trabajo, {'tmin': tmin,'tmax': tmax, 'volmin': volmin,'volmax': volmax})\n",
    "out2 = widgets.interactive_output(f3, {'tmin': tmin,'tmax': tmax, 'volmin': volmin,'volmax': volmax})\n",
    "\n",
    "\n",
    "display(volmin)\n",
    "display(volmax)\n",
    "display(tmin)\n",
    "display(tmax)\n",
    "display(out1)\n",
    "display(out2)\n"
   ]
  },
  {
   "cell_type": "code",
   "execution_count": 67,
   "id": "62f77c01",
   "metadata": {
    "hideCode": true
   },
   "outputs": [
    {
     "data": {
      "application/vnd.jupyter.widget-view+json": {
       "model_id": "b3d4ea93f60942058a8283a885b153e2",
       "version_major": 2,
       "version_minor": 0
      },
      "text/plain": [
       "IntSlider(value=5, description=' Volmin (L) =', max=10, min=2)"
      ]
     },
     "metadata": {},
     "output_type": "display_data"
    },
    {
     "data": {
      "application/vnd.jupyter.widget-view+json": {
       "model_id": "294b317018334736a971e91f2506fc27",
       "version_major": 2,
       "version_minor": 0
      },
      "text/plain": [
       "IntSlider(value=3, description=' Volmax (L) =', max=20, min=2)"
      ]
     },
     "metadata": {},
     "output_type": "display_data"
    },
    {
     "data": {
      "application/vnd.jupyter.widget-view+json": {
       "model_id": "bb251e12a2444f2182d88b0fe05271a6",
       "version_major": 2,
       "version_minor": 0
      },
      "text/plain": [
       "Output()"
      ]
     },
     "metadata": {},
     "output_type": "display_data"
    },
    {
     "data": {
      "application/vnd.jupyter.widget-view+json": {
       "model_id": "aa7db7d3b6e54af898d688cfc0fe413a",
       "version_major": 2,
       "version_minor": 0
      },
      "text/plain": [
       "Output()"
      ]
     },
     "metadata": {},
     "output_type": "display_data"
    },
    {
     "data": {
      "application/vnd.jupyter.widget-view+json": {
       "model_id": "4819b2d261974719ae4c683a557c6c68",
       "version_major": 2,
       "version_minor": 0
      },
      "text/plain": [
       "Output()"
      ]
     },
     "metadata": {},
     "output_type": "display_data"
    }
   ],
   "source": [
    "volmin = widgets.IntSlider(description=' Volmin (L) =',value=5, min=2, max=10)\n",
    "volmax = widgets.IntSlider(description=' Volmax (L) =',value=3, min=2, max=20)\n",
    "\n",
    "def trabajo (volmin,volmax):\n",
    "    trabajo = -100*(volmax-volmin)\n",
    "    calor  = 20.7684*((volmax*100/8.314)-(volmin*100/8.314))-trabajo\n",
    "    energia = {\"trabajo\":trabajo,\"calor\":calor}\n",
    "    magnitud = list(energia.values())\n",
    "    tipo = list(energia.keys())\n",
    "    plt.bar(tipo, magnitud, width=0.8)\n",
    "    plt.ylim(ymax=4000, ymin=-4000)\n",
    "    display( trabajo, calor)\n",
    "                      \n",
    "def temperatura (volmin,volmax):\n",
    "    tmin = volmin*100/8.314\n",
    "    tmax = volmax*100/8.314\n",
    "    display (tmin, tmax)\n",
    "    \n",
    "def f3(volmin,volmax):\n",
    "    tmin = volmin*100/8.314\n",
    "    tmax = volmax*100/8.314                  \n",
    "    x = np.linspace(0,20,500)\n",
    "    ec1=8.314*tmin/x\n",
    "    plt.plot(x,ec1)\n",
    "    plt.ylim(0, 200)\n",
    "    ec2=8.314*tmax/x\n",
    "    plt.plot(x,ec2)\n",
    "    plt.ylim(0, 200)\n",
    "    ec3=100+x-x\n",
    "    plt.plot(x,ec3)\n",
    "    plt.ylim(0, 200)\n",
    "    graf1 = plt.fill_between(x,ec3, where =[(x>volmin) and (x<volmax) for x in x],alpha=0.2)\n",
    "    graf2 = plt.fill_between(x,ec3, where =[(x>volmax) and (x<volmin) for x in x],alpha=0.2)\n",
    "    if volmin<volmax:\n",
    "        display(graf1)\n",
    "    else:\n",
    "        display(graf2)    \n",
    "    \n",
    "out1 = widgets.interactive_output(temperatura, {'volmin': volmin,'volmax': volmax})\n",
    "out2 = widgets.interactive_output(trabajo, {'volmin': volmin,'volmax': volmax})\n",
    "out3 = widgets.interactive_output(f3, {'volmin': volmin,'volmax': volmax})\n",
    "\n",
    "\n",
    "display(volmin)\n",
    "display(volmax)\n",
    "display(out1)\n",
    "display(out2)\n",
    "display(out3)\n"
   ]
  },
  {
   "cell_type": "code",
   "execution_count": 74,
   "id": "d79f08aa",
   "metadata": {},
   "outputs": [
    {
     "data": {
      "application/vnd.jupyter.widget-view+json": {
       "model_id": "34f1c75ae3f84c82a148bf43b30b59c6",
       "version_major": 2,
       "version_minor": 0
      },
      "text/plain": [
       "IntText(value=0)"
      ]
     },
     "metadata": {},
     "output_type": "display_data"
    }
   ],
   "source": [
    "widgets.IntText(value=0, disabled=False)"
   ]
  },
  {
   "cell_type": "code",
   "execution_count": 99,
   "id": "97daf01b",
   "metadata": {},
   "outputs": [
    {
     "data": {
      "application/vnd.jupyter.widget-view+json": {
       "model_id": "9fd2fa17e7924ec3af6e91f90690c5d6",
       "version_major": 2,
       "version_minor": 0
      },
      "text/plain": [
       "IntSlider(value=5, description=' Volmin (L) =', max=10, min=2)"
      ]
     },
     "metadata": {},
     "output_type": "display_data"
    },
    {
     "data": {
      "application/vnd.jupyter.widget-view+json": {
       "model_id": "1080e12ccfdd4ec2ac217f7e7aaa5188",
       "version_major": 2,
       "version_minor": 0
      },
      "text/plain": [
       "BoundedFloatText(value=3.0, description=' Volmax (L) =', max=20.0, min=2.0, step=0.1)"
      ]
     },
     "metadata": {},
     "output_type": "display_data"
    },
    {
     "data": {
      "application/vnd.jupyter.widget-view+json": {
       "model_id": "538a858a3d09400eb789876db65f55ff",
       "version_major": 2,
       "version_minor": 0
      },
      "text/plain": [
       "Output()"
      ]
     },
     "metadata": {},
     "output_type": "display_data"
    },
    {
     "data": {
      "application/vnd.jupyter.widget-view+json": {
       "model_id": "de2e7c9435e6468fb32fd44f4988116a",
       "version_major": 2,
       "version_minor": 0
      },
      "text/plain": [
       "Output()"
      ]
     },
     "metadata": {},
     "output_type": "display_data"
    },
    {
     "data": {
      "application/vnd.jupyter.widget-view+json": {
       "model_id": "94ccaf412dc247b89df396d24f793293",
       "version_major": 2,
       "version_minor": 0
      },
      "text/plain": [
       "Output()"
      ]
     },
     "metadata": {},
     "output_type": "display_data"
    }
   ],
   "source": [
    "volmin = widgets.IntSlider(description=' Volmin (L) =',value=5, min=2, max=10)\n",
    "volmax = widgets.BoundedFloatText(description=' Volmax (L) =',value=3, min=2, max=20, step=0.1)\n",
    "\n",
    "def trabajo (volmin,volmax):\n",
    "    trabajo = -100*(volmax-volmin)\n",
    "    calor  = 20.7684*((volmax*100/8.314)-(volmin*100/8.314))-trabajo\n",
    "    energia = {\"trabajo\":trabajo,\"calor\":calor}\n",
    "    magnitud = list(energia.values())\n",
    "    tipo = list(energia.keys())\n",
    "    plt.bar(tipo, magnitud, width=0.8)\n",
    "    plt.ylim(ymax=4000, ymin=-4000)\n",
    "    print (\"Trabajo (J/mol) =\", trabajo)\n",
    "    print (\"Calor (J/mol) =\", calor)\n",
    "    display(trabajo, calor)\n",
    "                      \n",
    "def temperatura (volmin,volmax):\n",
    "    tmin = volmin*100/8.314\n",
    "    tmax = volmax*100/8.314\n",
    "    print (\"Tmin (K) =\", tmin)\n",
    "    print (\"Tmax (K) =\", tmax)\n",
    "    display (tmin, tmax)\n",
    "    \n",
    "def f3(volmin,volmax):\n",
    "    tmin = volmin*100/8.314\n",
    "    tmax = volmax*100/8.314                  \n",
    "    x = np.linspace(0,20,500)\n",
    "    ec1=8.314*tmin/x\n",
    "    plt.plot(x,ec1)\n",
    "    plt.ylim(0, 200)\n",
    "    ec2=8.314*tmax/x\n",
    "    plt.plot(x,ec2)\n",
    "    plt.ylim(0, 200)\n",
    "    ec3=100+x-x\n",
    "    plt.plot(x,ec3)\n",
    "    plt.ylim(0, 200)\n",
    "    graf1 = plt.fill_between(x,ec3, where =[(x>volmin) and (x<volmax) for x in x],alpha=0.2)\n",
    "    graf2 = plt.fill_between(x,ec3, where =[(x>volmax) and (x<volmin) for x in x],alpha=0.2)\n",
    "    if volmin<volmax:\n",
    "        display(graf1)\n",
    "    else:\n",
    "        display(graf2)    \n",
    "    \n",
    "out1 = widgets.interactive_output(temperatura, {'volmin': volmin,'volmax': volmax})\n",
    "out2 = widgets.interactive_output(trabajo, {'volmin': volmin,'volmax': volmax})\n",
    "out3 = widgets.interactive_output(f3, {'volmin': volmin,'volmax': volmax})\n",
    "\n",
    "\n",
    "display(volmin)\n",
    "display(volmax)\n",
    "display(out1)\n",
    "display(out2)\n",
    "display(out3)\n"
   ]
  },
  {
   "cell_type": "code",
   "execution_count": 101,
   "id": "3933b5dc",
   "metadata": {},
   "outputs": [
    {
     "data": {
      "application/vnd.jupyter.widget-view+json": {
       "model_id": "434de6fc2a89480baa306ec2490ef107",
       "version_major": 2,
       "version_minor": 0
      },
      "text/plain": [
       "IntSlider(value=5, description=' Volmin (L) =', max=10, min=2)"
      ]
     },
     "metadata": {},
     "output_type": "display_data"
    },
    {
     "data": {
      "application/vnd.jupyter.widget-view+json": {
       "model_id": "f646564ef6534e87adf4f9d4a384e147",
       "version_major": 2,
       "version_minor": 0
      },
      "text/plain": [
       "BoundedFloatText(value=3.0, description=' Volmax (L) =', max=20.0, min=2.0, step=0.1)"
      ]
     },
     "metadata": {},
     "output_type": "display_data"
    },
    {
     "data": {
      "application/vnd.jupyter.widget-view+json": {
       "model_id": "89d0856431d84b668f7c48beb7f4591f",
       "version_major": 2,
       "version_minor": 0
      },
      "text/plain": [
       "Output()"
      ]
     },
     "metadata": {},
     "output_type": "display_data"
    },
    {
     "data": {
      "application/vnd.jupyter.widget-view+json": {
       "model_id": "a9a658afb74d4851bc1d04baca41ebc1",
       "version_major": 2,
       "version_minor": 0
      },
      "text/plain": [
       "Output()"
      ]
     },
     "metadata": {},
     "output_type": "display_data"
    },
    {
     "data": {
      "application/vnd.jupyter.widget-view+json": {
       "model_id": "5d10ca64b5b940aabf6f36e8e5b733e8",
       "version_major": 2,
       "version_minor": 0
      },
      "text/plain": [
       "Output()"
      ]
     },
     "metadata": {},
     "output_type": "display_data"
    }
   ],
   "source": [
    "volmin = widgets.IntSlider(description=' Volmin (L) =',value=5, min=2, max=10)\n",
    "volmax = widgets.BoundedFloatText(description=' Volmax (L) =',value=3, min=2, max=20, step=0.1)\n",
    "\n",
    "def trabajo (volmin,volmax):\n",
    "    trabajo = -100*(volmax-volmin)\n",
    "    calor  = 20.7684*((volmax*100/8.314)-(volmin*100/8.314))-trabajo\n",
    "    energia = {\"trabajo\":trabajo,\"calor\":calor}\n",
    "    magnitud = list(energia.values())\n",
    "    tipo = list(energia.keys())\n",
    "    plt.bar(tipo, magnitud, width=0.8)\n",
    "    plt.ylim(ymax=4000, ymin=-4000)\n",
    "    print (\"Trabajo (J/mol) =\", trabajo)\n",
    "    print (\"Calor (J/mol) =\", calor)\n",
    "    return(trabajo, calor)\n",
    "                      \n",
    "def temperatura (volmin,volmax):\n",
    "    tmin = volmin*100/8.314\n",
    "    tmax = volmax*100/8.314\n",
    "    print (\"Tmin (K) =\", tmin)\n",
    "    print (\"Tmax (K) =\", tmax)\n",
    "    return (tmin, tmax)\n",
    "    \n",
    "def f3(volmin,volmax):\n",
    "    tmin = volmin*100/8.314\n",
    "    tmax = volmax*100/8.314                  \n",
    "    x = np.linspace(0,20,500)\n",
    "    ec1=8.314*tmin/x\n",
    "    plt.plot(x,ec1)\n",
    "    plt.ylim(0, 200)\n",
    "    ec2=8.314*tmax/x\n",
    "    plt.plot(x,ec2)\n",
    "    plt.ylim(0, 200)\n",
    "    ec3=100+x-x\n",
    "    plt.plot(x,ec3)\n",
    "    plt.ylim(0, 200)\n",
    "    graf1 = plt.fill_between(x,ec3, where =[(x>volmin) and (x<volmax) for x in x],alpha=0.2)\n",
    "    graf2 = plt.fill_between(x,ec3, where =[(x>volmax) and (x<volmin) for x in x],alpha=0.2)\n",
    "    if volmin<volmax:\n",
    "        display(graf1)\n",
    "    else:\n",
    "        display(graf2)    \n",
    "    \n",
    "out1 = widgets.interactive_output(temperatura, {'volmin': volmin,'volmax': volmax})\n",
    "out2 = widgets.interactive_output(trabajo, {'volmin': volmin,'volmax': volmax})\n",
    "out3 = widgets.interactive_output(f3, {'volmin': volmin,'volmax': volmax})\n",
    "\n",
    "\n",
    "display(volmin)\n",
    "display(volmax)\n",
    "display(out1)\n",
    "display(out2)\n",
    "display(out3)"
   ]
  },
  {
   "cell_type": "code",
   "execution_count": 117,
   "id": "eb66a422",
   "metadata": {},
   "outputs": [
    {
     "data": {
      "application/vnd.jupyter.widget-view+json": {
       "model_id": "c588a08634164a5280eb3788179da5ef",
       "version_major": 2,
       "version_minor": 0
      },
      "text/plain": [
       "BoundedFloatText(value=25.0, description=' Volmin (L) =', max=50.0, min=20.0, step=0.1)"
      ]
     },
     "metadata": {},
     "output_type": "display_data"
    },
    {
     "data": {
      "application/vnd.jupyter.widget-view+json": {
       "model_id": "d630840d615f4ed0bbe4f78a5d5345fb",
       "version_major": 2,
       "version_minor": 0
      },
      "text/plain": [
       "BoundedFloatText(value=30.0, description=' Volmax (L) =', max=50.0, min=20.0, step=0.1)"
      ]
     },
     "metadata": {},
     "output_type": "display_data"
    },
    {
     "data": {
      "application/vnd.jupyter.widget-view+json": {
       "model_id": "03fd5d4e57d44c2bbe8fecf6ae25dbf3",
       "version_major": 2,
       "version_minor": 0
      },
      "text/plain": [
       "BoundedFloatText(value=100.0, description=' Presión (kPa) =', max=500.0, min=70.0, step=0.1)"
      ]
     },
     "metadata": {},
     "output_type": "display_data"
    },
    {
     "data": {
      "application/vnd.jupyter.widget-view+json": {
       "model_id": "03f8c6ddbcdb48b89c16491a830f461b",
       "version_major": 2,
       "version_minor": 0
      },
      "text/plain": [
       "Output()"
      ]
     },
     "metadata": {},
     "output_type": "display_data"
    },
    {
     "data": {
      "application/vnd.jupyter.widget-view+json": {
       "model_id": "b0860424376c42c0815b8ee88f440f74",
       "version_major": 2,
       "version_minor": 0
      },
      "text/plain": [
       "Output()"
      ]
     },
     "metadata": {},
     "output_type": "display_data"
    },
    {
     "data": {
      "application/vnd.jupyter.widget-view+json": {
       "model_id": "fc058e483b6f4bd4bdd6e1394f6694d5",
       "version_major": 2,
       "version_minor": 0
      },
      "text/plain": [
       "Output()"
      ]
     },
     "metadata": {},
     "output_type": "display_data"
    },
    {
     "data": {
      "application/vnd.jupyter.widget-view+json": {
       "model_id": "da1590075aab4da0b3a42ad10de19443",
       "version_major": 2,
       "version_minor": 0
      },
      "text/plain": [
       "Output()"
      ]
     },
     "metadata": {},
     "output_type": "display_data"
    },
    {
     "data": {
      "application/vnd.jupyter.widget-view+json": {
       "model_id": "350b24d92bec452dbead97a9a16757bb",
       "version_major": 2,
       "version_minor": 0
      },
      "text/plain": [
       "Output()"
      ]
     },
     "metadata": {},
     "output_type": "display_data"
    }
   ],
   "source": [
    "volmin = widgets.BoundedFloatText(description=' Volmin (L) =',value=25, min=20, max=50, step=0.1)\n",
    "volmax = widgets.BoundedFloatText(description=' Volmax (L) =',value=30, min=20, max=50, step=0.1)\n",
    "presion = widgets.BoundedFloatText(description=' Presión (kPa) =',value=100, min=70, max=500, step=0.1)\n",
    "\n",
    "def trabajo (volmin,volmax,presion):\n",
    "    trabajo = -presion*(volmax-volmin)\n",
    "    calor  = 20.7684*((volmax*100/8.314)-(volmin*100/8.314))-trabajo\n",
    "    energia = {\"trabajo\":trabajo,\"calor\":calor}\n",
    "    magnitud = list(energia.values())\n",
    "    tipo = list(energia.keys())\n",
    "    plt.bar(tipo, magnitud, width=0.8)\n",
    "    plt.ylim(ymax=10000, ymin=-10000)\n",
    "    print (\"Trabajo (J/mol) =\", trabajo)\n",
    "    print (\"Calor (J/mol) =\", calor)\n",
    "    return(trabajo, calor)\n",
    "                      \n",
    "def temperatura (volmin,volmax,presion):\n",
    "    tmin = volmin*presion/8.314\n",
    "    tmax = volmax*presion/8.314\n",
    "    print (\"Tmin (K) =\", tmin)\n",
    "    print (\"Tmax (K) =\", tmax)\n",
    "    return (tmin, tmax)\n",
    "    \n",
    "def f3(volmin,volmax,presion):\n",
    "    tmin = volmin*presion/8.314\n",
    "    tmax = volmax*presion/8.314                  \n",
    "    x = np.linspace(0,60,500)\n",
    "    ec1=8.314*tmin/x\n",
    "    plt.plot(x,ec1, color='gray')\n",
    "    plt.ylim(0, 700)\n",
    "    ec2=8.314*tmax/x\n",
    "    plt.plot(x,ec2, color='gray')\n",
    "    plt.ylim(0, 700)\n",
    "    ec3=presion+x-x\n",
    "    plt.plot(x,ec3, color='blue')\n",
    "    plt.ylim(0, 700)\n",
    "    graf1 = plt.fill_between(x,ec3, where =[(x>volmin) and (x<volmax) for x in x],alpha=0.2)\n",
    "    graf2 = plt.fill_between(x,ec3, where =[(x>volmax) and (x<volmin) for x in x],alpha=0.2)\n",
    "    if volmin<volmax:\n",
    "        display(graf1)\n",
    "    else:\n",
    "        display(graf2)    \n",
    "         \n",
    "def cilindro(volmin):\n",
    "    x= np.array([5,6,7,8])\n",
    "    y= np.array([volmin,volmin,volmin,volmin])\n",
    "    plt.plot(x,y,color='black')\n",
    "    plt.fill_between(x,y, alpha=0.25)\n",
    "    a= np.array([5,5,5])\n",
    "    b= np.array([0,8,60])\n",
    "    plt.plot(a, b, color='black')\n",
    "    z= np.array([8,8,8])\n",
    "    w= np.array([0,8,60])\n",
    "    plt.plot(z, w, color='black')\n",
    "    plt.xlim(xmin=0, xmax=13)\n",
    "    plt.ylim(ymin=0, ymax=100)\n",
    "    plt.ylabel(\"Volumen (L)\")\n",
    "    graf3 = plt.show()\n",
    "    display(graf3)\n",
    "    \n",
    "def cilindro2(volmax):\n",
    "    x= np.array([5,6,7,8])\n",
    "    y= np.array([volmax,volmax,volmax,volmax])\n",
    "    plt.plot(x,y,color='black')\n",
    "    plt.fill_between(x,y, alpha=0.25)\n",
    "    a= np.array([5,5,5])\n",
    "    b= np.array([0,8,60])\n",
    "    plt.plot(a, b, color='black')\n",
    "    z= np.array([8,8,8])\n",
    "    w= np.array([0,8,60])\n",
    "    plt.plot(z, w, color='black')\n",
    "    plt.xlim(xmin=0, xmax=13)\n",
    "    plt.ylim(ymin=0, ymax=100)\n",
    "    plt.ylabel(\"Volumen (L)\")\n",
    "    graf4 = plt.show()\n",
    "    display(graf4)\n",
    "    \n",
    "out1 = widgets.interactive_output(temperatura, {'volmin': volmin,'volmax': volmax,'presion': presion})\n",
    "out2 = widgets.interactive_output(trabajo, {'volmin': volmin,'volmax': volmax, 'presion': presion})\n",
    "out3 = widgets.interactive_output(f3, {'volmin': volmin,'volmax': volmax, 'presion': presion})\n",
    "out4 = widgets.interactive_output(cilindro, {'volmin': volmin})\n",
    "out5 = widgets.interactive_output(cilindro2, {'volmax': volmax})\n",
    "\n",
    "\n",
    "display(volmin)\n",
    "display(volmax)\n",
    "display(presion)\n",
    "display(out4)\n",
    "display(out5)\n",
    "display(out1)\n",
    "display(out2)\n",
    "display(out3)"
   ]
  },
  {
   "cell_type": "code",
   "execution_count": 119,
   "id": "7f33bb04",
   "metadata": {},
   "outputs": [
    {
     "data": {
      "image/png": "[encoded data removed]",
      "text/plain": [
       "<Figure size 640x480 with 2 Axes>"
      ]
     },
     "metadata": {},
     "output_type": "display_data"
    }
   ],
   "source": [
    "fig, ax = plt.subplots(1,2)"
   ]
  },
  {
   "cell_type": "code",
   "execution_count": 124,
   "id": "90178ce2",
   "metadata": {},
   "outputs": [
    {
     "data": {
      "application/vnd.jupyter.widget-view+json": {
       "model_id": "5c42ebda39924a8d87d8bf7ad4a8bd94",
       "version_major": 2,
       "version_minor": 0
      },
      "text/plain": [
       "BoundedFloatText(value=25.0, description=' Volmin (L) =', max=50.0, min=20.0, step=0.1)"
      ]
     },
     "metadata": {},
     "output_type": "display_data"
    },
    {
     "data": {
      "application/vnd.jupyter.widget-view+json": {
       "model_id": "d521684f5fd94b819ceb75fb76e6473f",
       "version_major": 2,
       "version_minor": 0
      },
      "text/plain": [
       "BoundedFloatText(value=30.0, description=' Volmax (L) =', max=50.0, min=20.0, step=0.1)"
      ]
     },
     "metadata": {},
     "output_type": "display_data"
    },
    {
     "data": {
      "application/vnd.jupyter.widget-view+json": {
       "model_id": "0af85cad4530431186f78624305942b2",
       "version_major": 2,
       "version_minor": 0
      },
      "text/plain": [
       "BoundedFloatText(value=100.0, description=' Presión (kPa) =', max=500.0, min=70.0, step=0.1)"
      ]
     },
     "metadata": {},
     "output_type": "display_data"
    },
    {
     "data": {
      "application/vnd.jupyter.widget-view+json": {
       "model_id": "8b9c9696d51949d2a8411f4f7f1eb30c",
       "version_major": 2,
       "version_minor": 0
      },
      "text/plain": [
       "Output()"
      ]
     },
     "metadata": {},
     "output_type": "display_data"
    },
    {
     "data": {
      "application/vnd.jupyter.widget-view+json": {
       "model_id": "3bdad0e416214d61b48e39033c65439d",
       "version_major": 2,
       "version_minor": 0
      },
      "text/plain": [
       "Output()"
      ]
     },
     "metadata": {},
     "output_type": "display_data"
    },
    {
     "data": {
      "application/vnd.jupyter.widget-view+json": {
       "model_id": "3aea24403e2a40fc90482c57bcb93e58",
       "version_major": 2,
       "version_minor": 0
      },
      "text/plain": [
       "Output()"
      ]
     },
     "metadata": {},
     "output_type": "display_data"
    },
    {
     "data": {
      "application/vnd.jupyter.widget-view+json": {
       "model_id": "3ae82e4615e64ca4ada9eadb20c4b415",
       "version_major": 2,
       "version_minor": 0
      },
      "text/plain": [
       "Output()"
      ]
     },
     "metadata": {},
     "output_type": "display_data"
    }
   ],
   "source": [
    "volmin = widgets.BoundedFloatText(description=' Volmin (L) =',value=25, min=20, max=50, step=0.1)\n",
    "volmax = widgets.BoundedFloatText(description=' Volmax (L) =',value=30, min=20, max=50, step=0.1)\n",
    "presion = widgets.BoundedFloatText(description=' Presión (kPa) =',value=100, min=70, max=500, step=0.1)\n",
    "\n",
    "def trabajo (volmin,volmax,presion):\n",
    "    trabajo = -presion*(volmax-volmin)\n",
    "    calor  = 20.7684*((volmax*100/8.314)-(volmin*100/8.314))-trabajo\n",
    "    energia = {\"trabajo\":trabajo,\"calor\":calor}\n",
    "    magnitud = list(energia.values())\n",
    "    tipo = list(energia.keys())\n",
    "    plt.bar(tipo, magnitud, width=0.8)\n",
    "    plt.ylim(ymax=10000, ymin=-10000)\n",
    "    print (\"Trabajo (J/mol) =\", trabajo)\n",
    "    print (\"Calor (J/mol) =\", calor)\n",
    "    return(trabajo, calor)\n",
    "                      \n",
    "def temperatura (volmin,volmax,presion):\n",
    "    tmin = volmin*presion/8.314\n",
    "    tmax = volmax*presion/8.314\n",
    "    print (\"Tmin (K) =\", tmin)\n",
    "    print (\"Tmax (K) =\", tmax)\n",
    "    return (tmin, tmax)\n",
    "    \n",
    "def f3(volmin,volmax,presion):\n",
    "    tmin = volmin*presion/8.314\n",
    "    tmax = volmax*presion/8.314                  \n",
    "    x = np.linspace(0,60,500)\n",
    "    ec1=8.314*tmin/x\n",
    "    plt.plot(x,ec1, color='gray')\n",
    "    plt.ylim(0, 700)\n",
    "    ec2=8.314*tmax/x\n",
    "    plt.plot(x,ec2, color='gray')\n",
    "    plt.ylim(0, 700)\n",
    "    ec3=presion+x-x\n",
    "    plt.plot(x,ec3, color='blue')\n",
    "    plt.ylim(0, 700)\n",
    "    graf1 = plt.fill_between(x,ec3, where =[(x>volmin) and (x<volmax) for x in x],alpha=0.2)\n",
    "    graf2 = plt.fill_between(x,ec3, where =[(x>volmax) and (x<volmin) for x in x],alpha=0.2)\n",
    "    if volmin<volmax:\n",
    "        display(graf1)\n",
    "    else:\n",
    "        display(graf2)    \n",
    "         \n",
    "def cilindro(volmin,volmax):\n",
    "    x= np.array([5,6,7,8])\n",
    "    y= np.array([volmin,volmin,volmin,volmin])\n",
    "    plt.plot(x,y,color='black')\n",
    "    plt.fill_between(x,y, alpha=0.25)\n",
    "    a= np.array([5,5,5])\n",
    "    b= np.array([0,8,60])\n",
    "    plt.plot(a, b, color='black')\n",
    "    z= np.array([8,8,8])\n",
    "    w= np.array([0,8,60])\n",
    "    plt.plot(z, w, color='black')\n",
    "    plt.xlim(xmin=0, xmax=13)\n",
    "    plt.ylim(ymin=0, ymax=100)\n",
    "    plt.ylabel(\"Volumen (L)\")\n",
    "    graf3 = plt.show()\n",
    "    x= np.array([5,6,7,8])\n",
    "    y= np.array([volmax,volmax,volmax,volmax])\n",
    "    plt.plot(x,y,color='black')\n",
    "    plt.fill_between(x,y, alpha=0.25)\n",
    "    a= np.array([5,5,5])\n",
    "    b= np.array([0,8,60])\n",
    "    plt.plot(a, b, color='black')\n",
    "    z= np.array([8,8,8])\n",
    "    w= np.array([0,8,60])\n",
    "    plt.plot(z, w, color='black')\n",
    "    plt.xlim(xmin=0, xmax=13)\n",
    "    plt.ylim(ymin=0, ymax=100)\n",
    "    plt.ylabel(\"Volumen (L)\")\n",
    "    graf4 = plt.show()\n",
    "    display(graf3,graf4)\n",
    "    \n",
    "out1 = widgets.interactive_output(temperatura, {'volmin': volmin,'volmax': volmax,'presion': presion})\n",
    "out2 = widgets.interactive_output(trabajo, {'volmin': volmin,'volmax': volmax, 'presion': presion})\n",
    "out3 = widgets.interactive_output(f3, {'volmin': volmin,'volmax': volmax, 'presion': presion})\n",
    "out4 = widgets.interactive_output(cilindro, {'volmin': volmin, 'volmax': volmax})\n",
    "\n",
    "\n",
    "display(volmin)\n",
    "display(volmax)\n",
    "display(presion)\n",
    "display(out4)\n",
    "display(out1)\n",
    "display(out2)\n",
    "display(out3)"
   ]
  },
  {
   "cell_type": "code",
   "execution_count": 142,
   "id": "57d08655",
   "metadata": {},
   "outputs": [
    {
     "data": {
      "text/plain": [
       "[<matplotlib.lines.Line2D at 0x2862f640d60>]"
      ]
     },
     "execution_count": 142,
     "metadata": {},
     "output_type": "execute_result"
    },
    {
     "data": {
      "image/png": "[encoded data removed]",
      "text/plain": [
       "<Figure size 640x480 with 2 Axes>"
      ]
     },
     "metadata": {},
     "output_type": "display_data"
    }
   ],
   "source": [
    "fig, ax = plt.subplots(1,2)\n",
    "ax1=plt.subplot2grid(shape=(1,2),loc=(0,0))\n",
    "ax2=plt.subplot2grid(shape=(1,2),loc=(0,1))\n",
    "a= np.array([5,5,5])\n",
    "b= np.array([0,8,60])\n",
    "n = np.array([6,6,6])\n",
    "m = np.array([0,8,60])\n",
    "ax1.plot(a, b, color='black')\n",
    "ax1.plot (m, n, color='red')\n",
    "x= np.array([5,6,7,8])\n",
    "y= np.array([50,50,50,50])\n",
    "ax2.plot(x,y,color='black')"
   ]
  },
  {
   "cell_type": "code",
   "execution_count": 152,
   "id": "4c73db92",
   "metadata": {},
   "outputs": [
    {
     "data": {
      "text/plain": [
       "Text(0, 0.5, 'Volumen (L)')"
      ]
     },
     "execution_count": 152,
     "metadata": {},
     "output_type": "execute_result"
    },
    {
     "data": {
      "image/png": "[encoded data removed]",
      "text/plain": [
       "<Figure size 640x480 with 2 Axes>"
      ]
     },
     "metadata": {},
     "output_type": "display_data"
    }
   ],
   "source": [
    "fig, ax = plt.subplots(1,2)\n",
    "ax1=plt.subplot2grid(shape=(1,2),loc=(0,0))\n",
    "ax2=plt.subplot2grid(shape=(1,2),loc=(0,1))\n",
    "x= np.array([5,6,7,8])\n",
    "y= np.array([13,13,13,13])\n",
    "a= np.array([5,5,5])\n",
    "b= np.array([0,8,60])\n",
    "z= np.array([8,8,8])\n",
    "w= np.array([0,8,60])\n",
    "ax1.plot(x, y, color='black')\n",
    "ax1.fill_between(x, y, alpha=0.25)\n",
    "ax1.plot(a, b, color='black')\n",
    "ax1.plot(z, w, color='black')\n",
    "m= np.array([5,6,7,8])\n",
    "n= np.array([40,40,40,40])\n",
    "r= np.array([5,5,5])\n",
    "s= np.array([0,8,60])\n",
    "e= np.array([8,8,8])\n",
    "i= np.array([0,8,60])\n",
    "ax2.plot(m,n, color='black')\n",
    "ax2.fill_between(m,n, alpha =0.25)\n",
    "ax2.plot(r,s,color='black')\n",
    "ax2.plot(e,i,color='black')\n",
    "ax2.set_ylabel('Volumen (L)')\n",
    "ax1.set_ylabel('Volumen (L)')"
   ]
  },
  {
   "cell_type": "code",
   "execution_count": 157,
   "id": "19ddbb1c",
   "metadata": {},
   "outputs": [
    {
     "data": {
      "application/vnd.jupyter.widget-view+json": {
       "model_id": "6e8d6a8b21a94a378450d06a48441a16",
       "version_major": 2,
       "version_minor": 0
      },
      "text/plain": [
       "BoundedFloatText(value=25.0, description=' Volmin (L) =', max=50.0, min=20.0, step=0.1)"
      ]
     },
     "metadata": {},
     "output_type": "display_data"
    },
    {
     "data": {
      "application/vnd.jupyter.widget-view+json": {
       "model_id": "fd40994aa27142b899d3a0c6c2dbd635",
       "version_major": 2,
       "version_minor": 0
      },
      "text/plain": [
       "BoundedFloatText(value=30.0, description=' Volmax (L) =', max=50.0, min=20.0, step=0.1)"
      ]
     },
     "metadata": {},
     "output_type": "display_data"
    },
    {
     "data": {
      "application/vnd.jupyter.widget-view+json": {
       "model_id": "ce9653e2a5004972a354c5bf761368ec",
       "version_major": 2,
       "version_minor": 0
      },
      "text/plain": [
       "BoundedFloatText(value=100.0, description=' Presión (kPa) =', max=500.0, min=70.0, step=0.1)"
      ]
     },
     "metadata": {},
     "output_type": "display_data"
    },
    {
     "data": {
      "application/vnd.jupyter.widget-view+json": {
       "model_id": "a6d20cc325624c40bb39650fbbc1ba72",
       "version_major": 2,
       "version_minor": 0
      },
      "text/plain": [
       "Output()"
      ]
     },
     "metadata": {},
     "output_type": "display_data"
    },
    {
     "data": {
      "application/vnd.jupyter.widget-view+json": {
       "model_id": "8f16f9ef3935412fb15190575ce16b81",
       "version_major": 2,
       "version_minor": 0
      },
      "text/plain": [
       "Output()"
      ]
     },
     "metadata": {},
     "output_type": "display_data"
    },
    {
     "data": {
      "application/vnd.jupyter.widget-view+json": {
       "model_id": "ba8ea75667c64023bb99d630c66af6ec",
       "version_major": 2,
       "version_minor": 0
      },
      "text/plain": [
       "Output()"
      ]
     },
     "metadata": {},
     "output_type": "display_data"
    },
    {
     "data": {
      "application/vnd.jupyter.widget-view+json": {
       "model_id": "15eef82e3afc49298257be1073e5c09c",
       "version_major": 2,
       "version_minor": 0
      },
      "text/plain": [
       "Output()"
      ]
     },
     "metadata": {},
     "output_type": "display_data"
    }
   ],
   "source": [
    "volmin = widgets.BoundedFloatText(description=' Volmin (L) =',value=25, min=20, max=50, step=0.1)\n",
    "volmax = widgets.BoundedFloatText(description=' Volmax (L) =',value=30, min=20, max=50, step=0.1)\n",
    "presion = widgets.BoundedFloatText(description=' Presión (kPa) =',value=100, min=70, max=500, step=0.1)\n",
    "\n",
    "def trabajo (volmin,volmax,presion):\n",
    "    trabajo = -presion*(volmax-volmin)\n",
    "    calor  = 20.7684*((volmax*100/8.314)-(volmin*100/8.314))-trabajo\n",
    "    energia = {\"trabajo\":trabajo,\"calor\":calor}\n",
    "    magnitud = list(energia.values())\n",
    "    tipo = list(energia.keys())\n",
    "    plt.bar(tipo, magnitud, width=0.8)\n",
    "    plt.ylim(ymax=10000, ymin=-10000)\n",
    "    print (\"Trabajo (J/mol) =\", trabajo)\n",
    "    print (\"Calor (J/mol) =\", calor)\n",
    "    return(trabajo, calor)\n",
    "                      \n",
    "def temperatura (volmin,volmax,presion):\n",
    "    tmin = volmin*presion/8.314\n",
    "    tmax = volmax*presion/8.314\n",
    "    print (\"Tmin (K) =\", tmin)\n",
    "    print (\"Tmax (K) =\", tmax)\n",
    "    return (tmin, tmax)\n",
    "    \n",
    "def f3(volmin,volmax,presion):\n",
    "    tmin = volmin*presion/8.314\n",
    "    tmax = volmax*presion/8.314                  \n",
    "    x = np.linspace(0,60,500)\n",
    "    ec1=8.314*tmin/x\n",
    "    plt.plot(x,ec1, color='gray')\n",
    "    plt.ylim(0, 700)\n",
    "    ec2=8.314*tmax/x\n",
    "    plt.plot(x,ec2, color='gray')\n",
    "    plt.ylim(0, 700)\n",
    "    ec3=presion+x-x\n",
    "    plt.plot(x,ec3, color='blue')\n",
    "    plt.ylim(0, 700)\n",
    "    graf1 = plt.fill_between(x,ec3, where =[(x>volmin) and (x<volmax) for x in x],alpha=0.2)\n",
    "    graf2 = plt.fill_between(x,ec3, where =[(x>volmax) and (x<volmin) for x in x],alpha=0.2)\n",
    "    if volmin<volmax:\n",
    "        display(graf1)\n",
    "    else:\n",
    "        display(graf2)    \n",
    "         \n",
    "def cilindro(volmin,volmax):\n",
    "    fig, ax = plt.subplots(1,2, constrained_layout = True)\n",
    "    ax1=plt.subplot2grid(shape=(1,2),loc=(0,0))\n",
    "    ax2=plt.subplot2grid(shape=(1,2),loc=(0,1))\n",
    "    x= np.array([5,6,7,8])\n",
    "    y= np.array([volmin,volmin,volmin,volmin])\n",
    "    a= np.array([5,5,5])\n",
    "    b= np.array([0,8,60])\n",
    "    z= np.array([8,8,8])\n",
    "    w= np.array([0,8,60])\n",
    "    ax1.plot(x, y, color='black')\n",
    "    ax1.fill_between(x, y, alpha=0.25)\n",
    "    ax1.plot(a, b, color='black')\n",
    "    ax1.plot(z, w, color='black')\n",
    "    ax1.set_title('Volumen inicial')\n",
    "    m= np.array([5,6,7,8])\n",
    "    n= np.array([volmax,volmax,volmax,volmax])\n",
    "    r= np.array([5,5,5])\n",
    "    s= np.array([0,8,60])\n",
    "    e= np.array([8,8,8])\n",
    "    i= np.array([0,8,60])\n",
    "    ax2.plot(m,n, color='black')\n",
    "    ax2.fill_between(m,n, alpha =0.25)\n",
    "    ax2.plot(r,s,color='black')\n",
    "    ax2.plot(e,i,color='black')\n",
    "    ax2.set_ylabel('Volumen (L)')\n",
    "    ax1.set_ylabel('Volumen (L)')\n",
    "    ax2.set_title('Volumen final')\n",
    "    return(ax1,ax2)\n",
    "    \n",
    "out1 = widgets.interactive_output(temperatura, {'volmin': volmin,'volmax': volmax,'presion': presion})\n",
    "out2 = widgets.interactive_output(trabajo, {'volmin': volmin,'volmax': volmax, 'presion': presion})\n",
    "out3 = widgets.interactive_output(f3, {'volmin': volmin,'volmax': volmax, 'presion': presion})\n",
    "out4 = widgets.interactive_output(cilindro, {'volmin': volmin, 'volmax': volmax})\n",
    "\n",
    "\n",
    "display(volmin)\n",
    "display(volmax)\n",
    "display(presion)\n",
    "display(out4)\n",
    "display(out1)\n",
    "display(out2)\n",
    "display(out3)"
   ]
  },
  {
   "cell_type": "code",
   "execution_count": 17,
   "id": "afb332b3",
   "metadata": {},
   "outputs": [],
   "source": [
    "%reload_ext watermark"
   ]
  },
  {
   "cell_type": "code",
   "execution_count": 23,
   "id": "7a6fc0e0-8025-428a-983d-780251f2a72a",
   "metadata": {},
   "outputs": [
    {
     "name": "stdout",
     "output_type": "stream",
     "text": [
      "Python implementation: CPython\n",
      "Python version       : 3.11.7\n",
      "IPython version      : 8.20.0\n",
      "\n",
      "matplotlib: 3.8.0\n",
      "numpy     : 1.26.4\n",
      "sympy     : 1.12\n",
      "ipywidgets: 8.0.0\n",
      "voila     : 0.5.7\n",
      "\n",
      "Compiler    : MSC v.1916 64 bit (AMD64)\n",
      "OS          : Windows\n",
      "Release     : 10\n",
      "Machine     : AMD64\n",
      "Processor   : Intel64 Family 6 Model 142 Stepping 10, GenuineIntel\n",
      "CPU cores   : 8\n",
      "Architecture: 64bit\n",
      "\n"
     ]
    }
   ],
   "source": [
    "%watermark -v -m -p matplotlib,numpy,sympy,ipywidgets,voila"
   ]
  },
  {
   "cell_type": "code",
   "execution_count": null,
   "id": "f59dac00-d05e-440c-93f4-35c8bb8b0f05",
   "metadata": {},
   "outputs": [],
   "source": []
  }
 ],
 "metadata": {
  "celltoolbar": "Hide code",
  "kernelspec": {
   "display_name": "Python 3 (ipykernel)",
   "language": "python",
   "name": "python3"
  },
  "language_info": {
   "codemirror_mode": {
    "name": "ipython",
    "version": 3
   },
   "file_extension": ".py",
   "mimetype": "text/x-python",
   "name": "python",
   "nbconvert_exporter": "python",
   "pygments_lexer": "ipython3",
   "version": "3.11.7"
  }
 },
 "nbformat": 4,
 "nbformat_minor": 5
}
